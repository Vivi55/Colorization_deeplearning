{
 "cells": [
  {
   "cell_type": "code",
   "execution_count": 19,
   "metadata": {},
   "outputs": [
    {
     "ename": "SyntaxError",
     "evalue": "invalid syntax (<ipython-input-19-96f0a25a72bf>, line 11)",
     "output_type": "error",
     "traceback": [
      "\u001b[1;36m  File \u001b[1;32m\"<ipython-input-19-96f0a25a72bf>\"\u001b[1;36m, line \u001b[1;32m11\u001b[0m\n\u001b[1;33m    MSE=sum(sum((img1-img2).^2))/(M*N)\u001b[0m\n\u001b[1;37m                            ^\u001b[0m\n\u001b[1;31mSyntaxError\u001b[0m\u001b[1;31m:\u001b[0m invalid syntax\n"
     ]
    }
   ],
   "source": [
    "import numpy \n",
    "import math\n",
    "import cv2\n",
    "\n",
    "img1 = cv2.imread('dataset_updated/training_set/mixed pics/covid19_01.png')\n",
    "img2 = cv2.imread('dataset_updated/training_set/mixed pics/painting_covid19_01.png')\n",
    "n=size(img1)\n",
    "M = n(1)\n",
    "N = n(2)\n",
    "\n",
    "MSE=sum(sum((img1-img2).^2))/(M*N)\n",
    "PSNR=10*log10(256*256/MSE)\n",
    "\n",
    "MSE\n",
    "\n"
   ]
  },
  {
   "cell_type": "code",
   "execution_count": 20,
   "metadata": {},
   "outputs": [
    {
     "ename": "ModuleNotFoundError",
     "evalue": "No module named 'theano'",
     "output_type": "error",
     "traceback": [
      "\u001b[1;31m---------------------------------------------------------------------------\u001b[0m",
      "\u001b[1;31mModuleNotFoundError\u001b[0m                       Traceback (most recent call last)",
      "\u001b[1;32m<ipython-input-20-067590c686cc>\u001b[0m in \u001b[0;36m<module>\u001b[1;34m\u001b[0m\n\u001b[0;32m      1\u001b[0m \u001b[1;32mimport\u001b[0m \u001b[0mnumpy\u001b[0m\u001b[1;33m\u001b[0m\u001b[0m\n\u001b[0;32m      2\u001b[0m \u001b[1;32mimport\u001b[0m \u001b[0mmath\u001b[0m\u001b[1;33m\u001b[0m\u001b[0m\n\u001b[1;32m----> 3\u001b[1;33m \u001b[1;32mimport\u001b[0m \u001b[0mtheano\u001b[0m\u001b[1;33m\u001b[0m\u001b[0m\n\u001b[0m\u001b[0;32m      4\u001b[0m \u001b[1;32mfrom\u001b[0m \u001b[0mtheano\u001b[0m \u001b[1;32mimport\u001b[0m \u001b[0mtensor\u001b[0m\u001b[1;33m\u001b[0m\u001b[0m\n\u001b[0;32m      5\u001b[0m \u001b[1;33m\u001b[0m\u001b[0m\n",
      "\u001b[1;31mModuleNotFoundError\u001b[0m: No module named 'theano'"
     ]
    }
   ],
   "source": [
    "import numpy\n",
    "import math\n",
    "import theano\n",
    "from theano import tensor\n",
    "\n",
    "def psnr(img1, img2):\n",
    "    mse = numpy.mean( (img1 - img2) ** 2 )\n",
    "    if mse == 0:\n",
    "        return 100\n",
    "    PIXEL_MAX = 255.0\n",
    "    return 20 * math.log10(PIXEL_MAX / math.sqrt(mse))\n",
    "\n",
    "\n",
    "# declare two symbolic floating-point scalars\n",
    "img1 = tensor.fmatrix()\n",
    "img2 = tensor.fmatrix()\n",
    "\n",
    "s1 = img1.sum('dataset_updated/training_set/mixed pics/covid19_01.png')\n",
    "s2 = img2.sum('dataset_updated/training_set/mixed pics/painting_covid19_01.png')\n",
    "ss = (img1 * img1).sum() + (img2 * img2).sum()\n",
    "s12 = (img1 * img2).sum()\n",
    "vari = ss - s1*s1 - s2*s2\n",
    "covar = s12 - s1*s2\n",
    "ssim_c1 = .01*.01\n",
    "ssim_c2 = .03*.03\n",
    "ssim_value = (2*s1*s2 + ssim_c1) * (2*covar + ssim_c2) / ((s1*s1 + s2*s2 + ssim_c1) * (vari + ssim_c2))\n",
    "\n",
    "ssim = theano.function([img1, img2], ssim_value)"
   ]
  },
  {
   "cell_type": "code",
   "execution_count": null,
   "metadata": {},
   "outputs": [],
   "source": []
  }
 ],
 "metadata": {
  "kernelspec": {
   "display_name": "Python 3",
   "language": "python",
   "name": "python3"
  },
  "language_info": {
   "codemirror_mode": {
    "name": "ipython",
    "version": 3
   },
   "file_extension": ".py",
   "mimetype": "text/x-python",
   "name": "python",
   "nbconvert_exporter": "python",
   "pygments_lexer": "ipython3",
   "version": "3.6.5"
  }
 },
 "nbformat": 4,
 "nbformat_minor": 4
}
